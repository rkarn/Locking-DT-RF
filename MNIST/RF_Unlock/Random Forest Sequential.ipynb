{
 "cells": [
  {
   "cell_type": "code",
   "execution_count": 1,
   "metadata": {},
   "outputs": [],
   "source": [
    "import serial\n",
    "#baud rate reduced to sove the hold slack time in rx module\n",
    "serialPort = serial.Serial(port = \"COM7\", baudrate=921600,\n",
    "                           bytesize=8, timeout=2, stopbits=serial.STOPBITS_ONE)"
   ]
  },
  {
   "cell_type": "code",
   "execution_count": 2,
   "metadata": {},
   "outputs": [],
   "source": [
    "#Loading MNIST dataset\n",
    "from tensorflow.keras.datasets import mnist\n",
    "(train_X, train_y), (test_X, test_y) = mnist.load_data()\n",
    "X_train=train_X.reshape(-1,784)\n",
    "X_test=test_X.reshape(-1,784)"
   ]
  },
  {
   "cell_type": "code",
   "execution_count": 3,
   "metadata": {},
   "outputs": [
    {
     "name": "stdout",
     "output_type": "stream",
     "text": [
      "Converting the integer pixel value to byte format.\n"
     ]
    }
   ],
   "source": [
    "#Converting the pixel value to bytes.\n",
    "print('Converting the integer pixel value to byte format.')\n",
    "import numpy as np\n",
    "Byte_X_train=[]\n",
    "for i in range(X_train.shape[0]):\n",
    "    byte_X_train=[]\n",
    "    for j in range(X_train.shape[1]):\n",
    "        byte_X_train.append(bytes([X_train[i][j]]))\n",
    "    Byte_X_train.append(byte_X_train)"
   ]
  },
  {
   "cell_type": "markdown",
   "metadata": {},
   "source": [
    "## Testing for MNIST"
   ]
  },
  {
   "cell_type": "code",
   "execution_count": 5,
   "metadata": {
    "scrolled": false
   },
   "outputs": [
    {
     "name": "stdout",
     "output_type": "stream",
     "text": [
      "********************Expected label is 3 *******************\n",
      "\n"
     ]
    },
    {
     "data": {
      "image/png": "[encoded data removed]",
      "text/plain": [
       "<Figure size 432x288 with 1 Axes>"
      ]
     },
     "metadata": {
      "needs_background": "light"
     },
     "output_type": "display_data"
    },
    {
     "name": "stdout",
     "output_type": "stream",
     "text": [
      "Byte stream created. Sending now: \n",
      "Sent bytes of image size 28 x 28 = 784 pixels.\n",
      "-----------Inference received from FPGA.-----------\n",
      "Label = 3.\n",
      "Do you want to continue: press Y for yes and N for no.\n",
      "n\n",
      "Thank you for using random forest inference in FPGA.\n"
     ]
    }
   ],
   "source": [
    "import time\n",
    "from IPython.display import clear_output\n",
    "import matplotlib.pyplot as plt\n",
    "%matplotlib inline\n",
    "fig = plt.figure\n",
    "while(1):\n",
    "    serialPort.reset_input_buffer()\n",
    "    serialPort.reset_output_buffer()\n",
    "    sending_sample = np.random.randint(0,X_train.shape[0])\n",
    "    print('********************Expected label is {} *******************\\n'.format(train_y[sending_sample]))\n",
    "    plt.imshow(train_X[sending_sample], cmap='gray')\n",
    "    plt.show()\n",
    "\n",
    "    print('Byte stream created. Sending now: ')\n",
    "    print('Sent bytes of image size {} x {} = {} pixels.'.format(train_X[0].shape[0], train_X[0].shape[1], len(X_train[sending_sample])))\n",
    "    serialString = \"\"                           # Used to hold data coming over UART\n",
    "    for val in Byte_X_train[sending_sample]:\n",
    "        sent_val = serialPort.write(val)\n",
    "    #print('Number of bytes sent is: {}. '.format(sent_val))\n",
    "    count_received_data = 0\n",
    "    while(1):\n",
    "        # Wait until there is data waiting in the serial buffer\n",
    "        if(serialPort.in_waiting > 0):\n",
    "            serialString = serialPort.readlines()\n",
    "            print('-----------Inference received from FPGA.-----------')\n",
    "            for string in serialString:\n",
    "                received_data=list(string)\n",
    "                #print(received_data)\n",
    "                count_received_data = count_received_data + len(received_data) \n",
    "            #print('Length of received data {}'.format(count_received_data))\n",
    "            print(f'Label = {received_data[-1]}.')\n",
    "            break\n",
    "    print('Do you want to continue: press Y for yes and N for no.')\n",
    "    continue_command = input()\n",
    "    if continue_command == 'Y' or continue_command =='y':\n",
    "        clear_output(wait=True)\n",
    "    else:\n",
    "        print('Thank you for using random forest inference in FPGA.')\n",
    "        break"
   ]
  },
  {
   "cell_type": "markdown",
   "metadata": {},
   "source": [
    "# END\n",
    "\n",
    "\n",
    "\n",
    "\n",
    "\n",
    "\n",
    "\n",
    "\n",
    "\n",
    "\n",
    "\n",
    "\n",
    "\n",
    "\n",
    "\n",
    "\n",
    "\n",
    "<br> \n",
    "\n",
    "\n",
    "\n",
    "\n",
    "\n",
    "\n",
    "\n",
    "\n",
    "\n",
    "\n",
    "\n",
    "\n",
    "<br> "
   ]
  }
 ],
 "metadata": {
  "kernelspec": {
   "display_name": "Python 3 (ipykernel)",
   "language": "python",
   "name": "python3"
  },
  "language_info": {
   "codemirror_mode": {
    "name": "ipython",
    "version": 3
   },
   "file_extension": ".py",
   "mimetype": "text/x-python",
   "name": "python",
   "nbconvert_exporter": "python",
   "pygments_lexer": "ipython3",
   "version": "3.9.12"
  }
 },
 "nbformat": 4,
 "nbformat_minor": 2
}
