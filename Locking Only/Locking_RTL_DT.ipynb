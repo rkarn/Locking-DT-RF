{
 "cells": [
  {
   "cell_type": "markdown",
   "id": "63a8af04",
   "metadata": {},
   "source": [
    "#### Filtering out the decison tree folders."
   ]
  },
  {
   "cell_type": "code",
   "execution_count": 1,
   "id": "225c2d45",
   "metadata": {},
   "outputs": [
    {
     "name": "stdout",
     "output_type": "stream",
     "text": [
      "['accelAdl_dt_d10', 'accelAdl_dt_d6', 'accelAdl_dt_d7', 'accelAdl_dt_d8', 'accelAdl_dt_d9', 'activities_dt_d10', 'activities_dt_d6', 'activities_dt_d7', 'activities_dt_d8', 'activities_dt_d9', 'wearable_dt_d10', 'wearable_dt_d6', 'wearable_dt_d7', 'wearable_dt_d8', 'wearable_dt_d9', 'wireless_dt_d10', 'wireless_dt_d6', 'wireless_dt_d7', 'wireless_dt_d8', 'wireless_dt_d9']\n"
     ]
    }
   ],
   "source": [
    "import os\n",
    "import pdb\n",
    "import numpy as np\n",
    "dt_rtl_files = []\n",
    "dir_path = 'C:/Users/rrk307/Documents/NYU Research/Locking Decison Tree/TUM Collabration/drive-download-20230807T070834Z-001/1_locking/locking/ALL_DT_RFS'\n",
    "for dt_file_name in (os.listdir(dir_path)):\n",
    "    if 'dt' in dt_file_name:\n",
    "        dt_rtl_files.append(dt_file_name)\n",
    "print(dt_rtl_files)\n",
    "\n",
    "dt_rtl_files_dict = {}\n",
    "for dt_file_name in dt_rtl_files:\n",
    "    with open(dir_path+'/'+dt_file_name+'/'+'decision.v','r') as fl:\n",
    "        dt_rtl_files_dict[dt_file_name] = fl.readlines()\n",
    "        fl.close()"
   ]
  },
  {
   "cell_type": "markdown",
   "id": "56856aeb",
   "metadata": {},
   "source": [
    "#### Creating keys"
   ]
  },
  {
   "cell_type": "code",
   "execution_count": 2,
   "id": "3d1a7130",
   "metadata": {},
   "outputs": [
    {
     "name": "stdout",
     "output_type": "stream",
     "text": [
      "{'accelAdl_dt_d10': 191, 'accelAdl_dt_d6': 38, 'accelAdl_dt_d7': 62, 'accelAdl_dt_d8': 92, 'accelAdl_dt_d9': 141, 'activities_dt_d10': 243, 'activities_dt_d6': 47, 'activities_dt_d7': 79, 'activities_dt_d8': 116, 'activities_dt_d9': 171, 'wearable_dt_d10': 85, 'wearable_dt_d6': 21, 'wearable_dt_d7': 32, 'wearable_dt_d8': 43, 'wearable_dt_d9': 62, 'wireless_dt_d10': 125, 'wireless_dt_d6': 32, 'wireless_dt_d7': 48, 'wireless_dt_d8': 75, 'wireless_dt_d9': 106}\n",
      "Input the percentage of nodes you want to lock.\n",
      "0.85\n"
     ]
    }
   ],
   "source": [
    "comparator_count = {}\n",
    "for file_name in dt_rtl_files:\n",
    "    counter = 0\n",
    "    for line in dt_rtl_files_dict[file_name]:\n",
    "        if ('\\tassign comp_feat_' in line):\n",
    "            counter= counter +1\n",
    "    comparator_count[file_name] = counter\n",
    "print(comparator_count)\n",
    "\n",
    "dt_key = {}\n",
    "print(f'Input the percentage of nodes you want to lock.')\n",
    "locking_fraction=float(input())\n",
    "for file_name in dt_rtl_files:\n",
    "    locking_count = int(locking_fraction*comparator_count[file_name])\n",
    "    key = np.random.randint(0,3,comparator_count[file_name])\n",
    "    key[0:int(locking_count/2)] = 0\n",
    "    key[int(locking_count/2):locking_count] = 1\n",
    "    key[locking_count:] = 2\n",
    "    np.random.shuffle(key)\n",
    "    dt_key[file_name] = key"
   ]
  },
  {
   "cell_type": "markdown",
   "id": "a0587750",
   "metadata": {},
   "source": [
    "#### Locking the RTL files."
   ]
  },
  {
   "cell_type": "code",
   "execution_count": 3,
   "id": "a3238114",
   "metadata": {},
   "outputs": [],
   "source": [
    "for file_name in dt_rtl_files:\n",
    "    comp_counter = 0\n",
    "    for i,line in enumerate(dt_rtl_files_dict[file_name]):\n",
    "        if ('\\tassign comp_feat_' in line):\n",
    "            if dt_key[file_name][comp_counter] == 0:\n",
    "                dt_rtl_files_dict[file_name][i] = line.split(';\\n')[0] + f'^ KEY[{comp_counter}]' + ';\\n'\n",
    "            elif dt_key[file_name][comp_counter] == 1:\n",
    "                dt_rtl_files_dict[file_name][i] = line.split(';\\n')[0] + f'~^ KEY[{comp_counter}]' + ';\\n'\n",
    "            else:\n",
    "                pass\n",
    "            comp_counter = comp_counter +1\n",
    "            \n",
    "for file_name in dt_rtl_files:\n",
    "    for i,line in enumerate(dt_rtl_files_dict[file_name]):\n",
    "        if ('\\tassign comp_feat_' in line and 'KEY' in line):\n",
    "            dt_rtl_files_dict[file_name][i] = line.split(' = ')[0] + ' = (' + line.split(' = ')[1].replace('];\\n', ']);\\n')"
   ]
  },
  {
   "cell_type": "markdown",
   "id": "f173fe67",
   "metadata": {},
   "source": [
    "#### Defining the Key"
   ]
  },
  {
   "cell_type": "code",
   "execution_count": 4,
   "id": "27c7779d",
   "metadata": {},
   "outputs": [],
   "source": [
    "COMPS_module_entered = 0;\n",
    "for file_name in dt_rtl_files:\n",
    "    for i,line in enumerate(dt_rtl_files_dict[file_name]):\n",
    "        if ('module COMPS(') in line:\n",
    "            dt_rtl_files_dict[file_name][i] = line.replace(line, line+'KEY,\\n')\n",
    "            COMPS_module_entered = 1\n",
    "        \n",
    "        if COMPS_module_entered == 1:\n",
    "            if (');\\n') in line:\n",
    "                dt_rtl_files_dict[file_name][i] = line.replace(line, line+ f'input [{len(dt_key[file_name])-1}:0] KEY;\\n')\n",
    "                COMPS_module_entered = 0  \n",
    "        \n",
    "        if ('COMPS INST_COMP(') in line:\n",
    "            dt_rtl_files_dict[file_name][i] = line.replace(line, line+ 'KEY,\\n')\n",
    "        \n",
    "        if ('module decision(') in line:\n",
    "            dt_rtl_files_dict[file_name][i] = line.replace(line, line+'KEY,\\n')\n",
    "            \n",
    "        if ('output [' in line and '] decision;' in line):\n",
    "            dt_rtl_files_dict[file_name][i] = line.replace(line, line+f'input [{len(dt_key[file_name])-1}:0] KEY;\\n')\n",
    "            \n",
    "    dt_rtl_files_dict[file_name][0] = dt_rtl_files_dict[file_name][0] + f'//Correct KEY={[np.random.randint(0,2) if item == 2 else item for item in dt_key[file_name]]}'"
   ]
  },
  {
   "cell_type": "markdown",
   "id": "39b73bc5",
   "metadata": {},
   "source": [
    "#### Saving the locked RTL files."
   ]
  },
  {
   "cell_type": "code",
   "execution_count": 5,
   "id": "2ddadf5e",
   "metadata": {},
   "outputs": [],
   "source": [
    "isExist = os.path.exists('locked_dt_rtl')\n",
    "if not isExist:\n",
    "    os.makedirs('locked_dt_rtl')\n",
    "    print(f'Locked RTL files will be in: locked_dt_rtl')\n",
    "os.chdir('locked_dt_rtl')\n",
    "for file_name in dt_rtl_files:\n",
    "    with open('locked_'+file_name+'.v','w') as fl:\n",
    "        fl.write(''.join(dt_rtl_files_dict[file_name]))\n",
    "        fl.close()"
   ]
  },
  {
   "cell_type": "code",
   "execution_count": null,
   "id": "0aeee861",
   "metadata": {},
   "outputs": [],
   "source": []
  }
 ],
 "metadata": {
  "kernelspec": {
   "display_name": "Python 3 (ipykernel)",
   "language": "python",
   "name": "python3"
  },
  "language_info": {
   "codemirror_mode": {
    "name": "ipython",
    "version": 3
   },
   "file_extension": ".py",
   "mimetype": "text/x-python",
   "name": "python",
   "nbconvert_exporter": "python",
   "pygments_lexer": "ipython3",
   "version": "3.9.13"
  }
 },
 "nbformat": 4,
 "nbformat_minor": 5
}
