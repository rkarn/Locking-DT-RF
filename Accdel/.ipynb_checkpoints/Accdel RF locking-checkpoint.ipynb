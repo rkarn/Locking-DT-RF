{
 "cells": [
  {
   "cell_type": "code",
   "execution_count": 1,
   "metadata": {},
   "outputs": [
    {
     "name": "stdout",
     "output_type": "stream",
     "text": [
      "(116699, 4) (50014, 4) (116699,) (50014,)\n"
     ]
    }
   ],
   "source": [
    "import idx2numpy\n",
    "import seaborn as sns\n",
    "import pandas as pd\n",
    "from sklearn.model_selection import train_test_split\n",
    "\n",
    "df = pd.read_csv('../approx_dataset_from_frameworkdtrf/accelAdl_preprocessed_approx.csv')\n",
    "X = df.values[:,:-1]\n",
    "Y = df.values[:,-1]\n",
    "X_train, X_test, y_train, y_test = train_test_split(X, Y, test_size=0.3, random_state=42)\n",
    "print(X_train.shape, X_test.shape, y_train.shape, y_test.shape)"
   ]
  },
  {
   "cell_type": "markdown",
   "metadata": {},
   "source": [
    "# Random Forest"
   ]
  },
  {
   "cell_type": "code",
   "execution_count": 5,
   "metadata": {},
   "outputs": [
    {
     "name": "stdout",
     "output_type": "stream",
     "text": [
      "RandomForestClassifier(max_depth=8, n_estimators=3)\n",
      "Test accuracy = 0.6163674171232055, Train accuracy = 0.6294\n",
      "Number of trees = 3\n",
      "Number of nodes in trees = [483, 471, 475]. Total = 1429\n",
      "Number of leaves in trees = [242, 236, 238]. Total = 716\n"
     ]
    }
   ],
   "source": [
    "import numpy as np\n",
    "from sklearn.utils import shuffle\n",
    "X_shuffle,y_shuffle = shuffle(X_train,y_train)\n",
    "X_train = X_shuffle[0:50000]\n",
    "y_train = y_shuffle[0:50000]\n",
    "\n",
    "from sklearn import tree\n",
    "from sklearn.ensemble import RandomForestClassifier\n",
    "from sklearn.model_selection import cross_val_predict\n",
    "n_trees = 3\n",
    "#rf_clf = RandomForestClassifier(n_estimators=n_trees, max_depth=20, max_leaf_nodes=300)\n",
    "#rf_clf = RandomForestClassifier(n_estimators=n_trees, max_depth=4, max_leaf_nodes=20)\n",
    "rf_clf = RandomForestClassifier(n_estimators=n_trees, max_depth=8)\n",
    "\n",
    "#y_train_pred = cross_val_predict(dt_clf, X_train, y_train, cv=2)\n",
    "print(rf_clf.fit(X_train, y_train))\n",
    "\n",
    "from sklearn.metrics import accuracy_score\n",
    "print(f'Test accuracy = {accuracy_score(y_test, rf_clf.predict(X_test))}, Train accuracy = {accuracy_score(y_train, rf_clf.predict(X_train))}')\n",
    "print(f'Number of trees = {n_trees}')\n",
    "nodes_count =[tree_i.tree_.node_count for tree_i in rf_clf.estimators_]\n",
    "leaves_count = [tree_i.tree_.n_leaves for tree_i in rf_clf.estimators_]\n",
    "print(f'Number of nodes in trees = {nodes_count}. Total = {np.sum(nodes_count)}')\n",
    "print(f'Number of leaves in trees = {leaves_count}. Total = {np.sum(leaves_count)}')"
   ]
  },
  {
   "cell_type": "code",
   "execution_count": 6,
   "metadata": {},
   "outputs": [
    {
     "name": "stdout",
     "output_type": "stream",
     "text": [
      "Min value of threshold = -2. Max value of threshold = 1014\n"
     ]
    }
   ],
   "source": [
    "import itertools\n",
    "unique_thresholds = []\n",
    "for i,dt in enumerate(rf_clf.estimators_):\n",
    "    unique_thresholds.append(list(set([int(round(i,3)) for i in dt.tree_.threshold])))\n",
    "unique_thresholds_flat = list(itertools.chain(*unique_thresholds))\n",
    "print(f'Min value of threshold = {min(unique_thresholds_flat)}. Max value of threshold = {max(unique_thresholds_flat)}')"
   ]
  },
  {
   "cell_type": "markdown",
   "metadata": {},
   "source": [
    "### Sequential HDL Generation"
   ]
  },
  {
   "cell_type": "code",
   "execution_count": 8,
   "metadata": {},
   "outputs": [],
   "source": [
    "%%capture cap --no-stderr\n",
    "#https://towardsdatascience.com/scikit-learn-decision-trees-explained-803f3812290d\n",
    "from sklearn.tree import _tree\n",
    "\n",
    "def tree_to_code(tree, feature_names, tree_num):\n",
    "    tree_ = tree.tree_\n",
    "    feature_name = [\n",
    "        feature_names[i] if i != _tree.TREE_UNDEFINED else \"undefined!\"\n",
    "        for i in tree_.feature\n",
    "    ]\n",
    "    def recurse(node, depth):\n",
    "        indent = \"  \" * depth\n",
    "        if tree_.feature[node] != _tree.TREE_UNDEFINED:\n",
    "            name = feature_name[node]\n",
    "            threshold = tree_.threshold[node]\n",
    "            print (\"{}{}:if ({} <= {})\".format(indent, node, name.split('_')[0]+'_tree'+str(tree_num)+name.split('_')[-1], int(round(threshold,3)))) \n",
    "            recurse(tree_.children_left[node], depth + 1)\n",
    "            print (\"{}{}:else \".format(indent, node, name, int(round(threshold,3))))\n",
    "            recurse(tree_.children_right[node], depth + 1)\n",
    "        else:\n",
    "            print (\"{} Label_tree_{}<= {};\".format(indent, tree_num, np.argmax(tree_.value[node][0],axis=0)))\n",
    "\n",
    "    recurse(0, 1)\n",
    "\n",
    "cols = range(784)\n",
    "features = ['pixels_[{}]'.format(str(i)) for i in cols]\n",
    "class_names = [str(i) for i in range(rf_clf.estimators_[0].tree_.n_classes[0])]\n",
    "for i,dt in enumerate(rf_clf.estimators_):\n",
    "    print(f'\\n // Source code for tree {i+1}.\\n \\n')\n",
    "    tree_to_code(tree = dt, feature_names = features, tree_num=i+1)\n",
    "\n",
    "with open('Decision_rules_Accdel.txt', 'w') as f:\n",
    "    f.write(cap.stdout)"
   ]
  },
  {
   "cell_type": "code",
   "execution_count": 9,
   "metadata": {},
   "outputs": [],
   "source": [
    "with open('Decision_rules_Accdel.txt', 'r') as f:\n",
    "   lines = f.read().split('\\n\\n')\n",
    "\n",
    "for i in range(n_trees):\n",
    "    f = open(f\"rf_tree_{i+1}_Accdel.txt\", \"w\")\n",
    "    f.write(lines[2*i])\n",
    "    f.write(lines[2*i+1])\n",
    "    f.close()"
   ]
  },
  {
   "cell_type": "code",
   "execution_count": 10,
   "metadata": {},
   "outputs": [],
   "source": [
    "import pdb\n",
    "def write_file(data_towrite, filename):\n",
    "    with open(filename, 'a', encoding='utf-8') as file:\n",
    "        file.writelines(data_towrite)\n",
    "        file.close()\n",
    "        \n",
    "def write_line_file(data_towrite, line_num, filename):\n",
    "    with open(filename, 'r', encoding='utf-8') as file:\n",
    "        file_content = file.readlines()\n",
    "        file.close()\n",
    "    file_content[line_num] = file_content[line_num].replace('\\n','') + ' ' + data_towrite + '\\n'  \n",
    "    with open(filename, 'w', encoding='utf-8') as file:\n",
    "        file.writelines(file_content)\n",
    "        file.close()\n",
    "        \n",
    "def search_content_file(word, filename):\n",
    "    with open(filename, 'r') as file:\n",
    "        file_content = file.readlines()\n",
    "        for line_num,line in enumerate(file_content):\n",
    "            if word in line:\n",
    "                return(line_num)\n",
    "        return(\"content doesn't exists.\")\n",
    "    \n",
    "def update_stateformat_file(filename):\n",
    "    with open(filename, 'r', encoding='utf-8') as file:\n",
    "        file_content = file.readlines()\n",
    "        file.close()\n",
    "    for line_num,line in enumerate(file_content):\n",
    "        if 'if' in line:\n",
    "            file_content[line_num] = '16\\'d' + file_content[line_num].strip() + ' \\n'  \n",
    "    with open(filename, 'w', encoding='utf-8') as file:\n",
    "        file.writelines(file_content)\n",
    "        file.close()\n",
    "        \n",
    "def clear_file(filename):\n",
    "    with open(filename, 'w', encoding='utf-8') as file:\n",
    "        pass\n",
    "        file.close()\n",
    "\n",
    "import itertools\n",
    "for m in range(n_trees):\n",
    "    filename = f\"rf_tree_{m+1}_Accdel.v\"\n",
    "    with open(f\"rf_tree_{m+1}_Accdel.txt\", 'r') as f:\n",
    "        tree_verilog = f.read()\n",
    "        f.close()\n",
    "\n",
    "    clear_file(filename)\n",
    "    line_num = 0\n",
    "    else_state = 0\n",
    "    else_nextif_state = 0\n",
    "    curr_line,next_line = itertools.tee(tree_verilog.split('\\n'))\n",
    "    next(next_line, None)\n",
    "    for i,j in list(zip(curr_line,next_line)):\n",
    "        if 'Label' in i:\n",
    "            pass\n",
    "            #write_file(f'  begin {i.strip()} state<=0;ml_inference_completed<=1; end \\n')\n",
    "        elif 'else' in i and 'Label' in j:\n",
    "            else_state = i.strip().split(':')[0]\n",
    "            line_num = search_content_file(' '+str(else_state)+':if' , filename)\n",
    "            write_line_file(f'\\n       else begin {j.strip()} state_tree{m+1}<=0;ml_inference_completed_tree{m+1}<=1; end ', line_num, filename)\n",
    "            #write_file(f'   {i.strip().split(\":\")[-1]} ')\n",
    "        elif 'else' in i and 'if' in j:\n",
    "            else_state = i.strip().split(':')[0]\n",
    "            else_nextif_state = j.strip().split(':')[0]\n",
    "            line_num = search_content_file(' '+str(else_state)+':if', filename )\n",
    "            write_line_file(f'else begin state_tree{m+1}<={else_nextif_state}; end ', line_num, filename)\n",
    "        elif 'if' in i and 'Label' in j:\n",
    "            write_file(f'\\n {i.strip()} begin {j.strip()} state_tree{m+1}<=0;ml_inference_completed_tree{m+1}<=1; end ', filename)\n",
    "        elif 'if' in i and 'if' in j:\n",
    "            write_file(f'\\n {i.strip()} begin state_tree{m+1}<={j.strip().split(\":\")[0]}; end \\n ', filename)  \n",
    "    update_stateformat_file(filename)"
   ]
  },
  {
   "cell_type": "markdown",
   "metadata": {},
   "source": [
    "# Logic Locking Circuit"
   ]
  },
  {
   "cell_type": "code",
   "execution_count": 11,
   "metadata": {},
   "outputs": [
    {
     "data": {
      "image/png": "[encoded data removed]",
      "text/plain": [
       "<IPython.core.display.Image object>"
      ]
     },
     "execution_count": 11,
     "metadata": {},
     "output_type": "execute_result"
    }
   ],
   "source": [
    "from IPython.display import Image\n",
    "Image(filename=\"/home/ubuntu/Locked_decision_tree_different_ckt.png\")"
   ]
  },
  {
   "cell_type": "markdown",
   "metadata": {},
   "source": [
    "## Logic Locking: Mix of XOR/XNOR key gates selected randomly at only few nodes. Non-locked nodes is treated as containing buffer."
   ]
  },
  {
   "cell_type": "markdown",
   "metadata": {},
   "source": [
    "###### Key generation : Input the percentage of nodes you want to lock."
   ]
  },
  {
   "cell_type": "code",
   "execution_count": 12,
   "metadata": {
    "scrolled": true
   },
   "outputs": [
    {
     "name": "stdout",
     "output_type": "stream",
     "text": [
      "Input the percentage of nodes you want to lock.\n",
      "0.85\n",
      "[1 1 0 1 1 0 0 1 1 1 0 1 1 2 0 0 0 1 0 2 1 1 1 0 0 0 1 0 1 1 2 0 1 0 2 0 2\n",
      " 1 1 0 1 0 1 1 1 2 2 0 0 0 0 0 1 1 2 2 2 1 1 2 1 2 2 0 2 0 1 0 1 0 0 1 2 0\n",
      " 1 0 1 1 0 1 1 0 1 0 1 0 1 1 0 1 1 0 1 0 1 1 1 0 0 0 0 1 0 1 1 0 1 1 2 2 1\n",
      " 0 1 0 1 0 1 0 1 0 0 2 1 1 0 1 1 1 0 0 1 1 0 0 2 0 0 1 1 2 1 1 0 1 1 0 0 1\n",
      " 1 1 1 0 1 1 0 2 0 0 2 0 2 1 1 2 0 1 1 0 1 2 1 1 1 1 1 2 1 0 1 1 1 1 1 2 1\n",
      " 0 1 1 1 1 1 0 0 0 0 1 0 1 0 2 0 1 0 0 2 2 1 1 1 1 1 1 1 0 1 0 1 1 0 0 0 0\n",
      " 2 0 0 1 0 2 2 0 0 0 1 2 0 2 0 2 0 0 2 0 0 2 0 2 2 0 1 1 0 0 2 0 0 0 1 0 0\n",
      " 1 2 0 0 1 1 2 0 2 0 1 0 0 2 1 1 0 0 0 2 1 1 0 0 0 0 0 0 2 2 1 0 0 0 2 0 0\n",
      " 0 1 0 1 0 1 1 2 0 1 0 2 2 2 1 1 0 2 0 1 0 0 1 0 1 1 1 0 0 0 0 1 0 0 1 1 2\n",
      " 0 0 1 2 0 1 0 0 0 2 0 0 0 1 1 1 1 2 2 2 0 0 1 2 0 2 0 0 1 2 0 1 1 1 0 0 1\n",
      " 0 1 0 1 0 1 2 1 0 1 1 1 0 0 1 2 0 2 1 1 1 0 1 0 0 1 1 0 1 1 1 0 1 1 1 0 1\n",
      " 1 0 0 0 0 0 0 2 1 1 2 1 1 0 1 1 1 1 0 1 0 1 1 0 1 0 1 0 1 2 1 0 0 0 1 1 0\n",
      " 2 0 1 0 1 0 1 1 0 1 1 1 2 0 0 1 1 2 0 0 0 0 0 0 1 1 0 1 0 1 0 1 1 0 0 0 0\n",
      " 0 2]\n",
      "[1 1 0 1 1 0 0 2 1 1 1 1 2 0 2 1 0 1 0 2 1 0 1 0 0 0 0 1 2 0 2 2 1 2 1 1 1\n",
      " 1 0 1 1 2 0 2 1 1 1 0 2 1 0 2 1 0 0 1 0 0 1 0 0 1 1 0 0 1 0 2 1 0 2 0 1 0\n",
      " 2 0 0 1 0 1 1 1 2 0 2 0 0 0 1 0 0 0 0 1 1 0 0 0 1 0 0 0 0 0 0 1 0 0 1 1 0\n",
      " 2 1 0 0 1 1 1 0 0 1 0 1 0 1 0 0 2 0 0 1 1 0 1 0 1 2 2 2 0 0 1 0 1 0 1 1 2\n",
      " 0 1 2 1 0 1 0 0 0 0 0 0 1 2 1 1 0 0 1 0 0 2 1 1 0 0 1 1 1 1 1 1 0 0 1 1 1\n",
      " 1 0 2 0 1 0 2 0 1 0 1 2 2 2 1 0 1 0 0 0 1 0 1 1 0 0 0 1 2 1 0 0 0 1 1 0 0\n",
      " 2 0 1 1 0 0 1 1 1 1 0 0 0 1 2 0 1 1 0 1 0 1 2 0 0 2 1 1 2 2 0 2 1 2 1 1 1\n",
      " 1 0 0 0 2 0 0 1 1 0 1 1 1 1 1 1 2 1 0 1 0 0 2 0 2 1 1 0 2 0 1 1 1 0 1 1 0\n",
      " 2 0 1 1 1 1 0 0 0 2 1 0 0 2 0 1 1 1 2 0 1 0 0 0 2 0 1 0 1 1 1 1 1 0 1 1 0\n",
      " 1 0 1 0 2 1 0 0 1 0 0 0 1 1 0 1 2 1 0 0 0 2 1 0 2 2 1 0 0 0 2 2 0 1 1 1 0\n",
      " 0 1 2 1 1 0 1 1 1 0 1 0 0 2 1 1 2 0 1 1 1 2 0 1 1 1 0 2 1 0 0 0 2 0 1 2 2\n",
      " 0 1 1 0 1 1 0 0 1 0 1 1 0 1 1 1 1 0 0 0 0 2 2 1 2 2 0 1 0 0 0 0 1 0 1 1 0\n",
      " 0 0 0 1 1 0 0 1 0 1 1 1 1 2 1 0 2 1 0 0 1 1 0 0 0 1 1]\n",
      "[1 1 0 1 2 0 1 0 0 0 0 1 2 0 2 0 1 0 1 1 1 0 2 1 1 0 1 0 2 0 2 0 0 2 0 1 1\n",
      " 0 1 0 0 0 1 0 0 0 0 1 0 1 1 2 0 1 0 1 0 1 1 1 1 1 0 1 1 0 0 0 1 1 1 0 1 1\n",
      " 0 0 0 1 1 2 1 1 0 0 0 1 0 1 1 0 0 1 1 1 0 0 1 1 0 1 2 2 1 1 1 0 1 1 2 1 0\n",
      " 0 1 1 1 0 1 1 2 1 0 1 0 0 0 1 0 0 0 0 2 0 1 2 1 0 1 1 1 1 1 1 2 1 0 1 1 1\n",
      " 0 1 1 0 1 1 0 0 0 1 1 1 1 1 0 0 1 1 0 1 1 0 0 1 1 0 0 1 0 0 1 0 0 1 0 0 1\n",
      " 1 0 1 2 0 0 2 0 0 1 0 2 0 2 1 0 1 1 0 1 0 2 1 0 0 0 0 2 2 0 2 0 0 1 1 0 2\n",
      " 2 0 0 0 0 1 0 0 0 0 2 2 0 1 1 1 1 0 0 0 1 1 0 1 1 1 2 1 1 0 2 0 1 1 0 1 0\n",
      " 1 1 1 0 1 0 0 0 0 0 0 0 0 1 2 1 1 2 1 0 1 0 1 0 1 0 1 0 1 1 1 0 1 0 2 0 1\n",
      " 0 1 1 1 2 0 0 0 2 1 1 0 1 2 1 2 2 0 1 0 0 2 0 0 2 1 1 0 0 2 2 0 1 1 0 2 1\n",
      " 1 2 2 1 0 0 1 1 1 0 0 1 2 1 0 0 2 0 1 0 0 2 1 0 1 1 0 1 1 0 0 2 0 0 0 0 0\n",
      " 1 1 1 2 1 0 2 1 1 2 1 2 2 1 2 0 2 2 0 2 2 1 0 1 1 1 1 0 2 1 1 0 2 2 0 2 0\n",
      " 1 0 1 1 0 1 0 1 0 0 0 1 0 0 0 2 1 1 0 0 1 0 2 0 0 1 0 0 0 2 2 0 1 0 1 1 0\n",
      " 1 0 2 1 0 1 0 0 1 1 1 1 0 2 0 1 0 1 1 0 2 0 0 0 1 1 1 2 1 1 2]\n"
     ]
    }
   ],
   "source": [
    "print(f'Input the percentage of nodes you want to lock.')\n",
    "locking_fraction=float(input())\n",
    "locking_fraction = [int(i*locking_fraction) for i in nodes_count]\n",
    "key = [np.random.randint(0,3,i) for i in nodes_count]\n",
    "for i in range(n_trees):\n",
    "    key[i][0:int(locking_fraction[i]/2)] = 0\n",
    "    key[i][int(locking_fraction[i]/2):locking_fraction[i]] = 1\n",
    "    key[i][locking_fraction[i]:] = 2\n",
    "    np.random.shuffle(key[i])\n",
    "    print(key[i])"
   ]
  },
  {
   "cell_type": "markdown",
   "metadata": {},
   "source": [
    "###### Selecting gates between XOR and XNOR based on key value. 0-XOR, 1-XNOR, 2-No Lock"
   ]
  },
  {
   "cell_type": "markdown",
   "metadata": {},
   "source": [
    "### Sequential HDL Generation of locked circuit"
   ]
  },
  {
   "cell_type": "markdown",
   "metadata": {},
   "source": [
    "#### Run this cell twice."
   ]
  },
  {
   "cell_type": "code",
   "execution_count": 14,
   "metadata": {},
   "outputs": [],
   "source": [
    "%%capture cap --no-stderr\n",
    "#https://towardsdatascience.com/scikit-learn-decision-trees-explained-803f3812290d\n",
    "from sklearn.tree import _tree\n",
    "\n",
    "def tree_to_code(tree, feature_names, tree_num):\n",
    "    tree_ = tree.tree_\n",
    "    feature_name = [\n",
    "        feature_names[i] if i != _tree.TREE_UNDEFINED else \"undefined!\"\n",
    "        for i in tree_.feature\n",
    "    ]\n",
    "    def recurse(node, depth):\n",
    "        indent = \"  \" * depth\n",
    "        if tree_.feature[node] != _tree.TREE_UNDEFINED:\n",
    "            name = feature_name[node]\n",
    "            threshold = tree_.threshold[node]\n",
    "            print (\"{}{}:if (({} <= {}) ^ key)\".format(indent, node, name.split('_')[0]+'_tree'+str(tree_num)+name.split('_')[-1], int(round(threshold,3)))) \n",
    "            recurse(tree_.children_left[node], depth + 1)\n",
    "            print (\"{}{}:else \".format(indent, node))\n",
    "            recurse(tree_.children_right[node], depth + 1)\n",
    "        else:\n",
    "            print (\"{} Label_tree_{}<= {};\".format(indent, tree_num, np.argmax(tree_.value[node][0],axis=0)))\n",
    "\n",
    "    recurse(0, 1)\n",
    "\n",
    "cols = range(784)\n",
    "features = ['pixels_[{}]'.format(str(i)) for i in cols]\n",
    "class_names = [str(i) for i in range(rf_clf.estimators_[0].tree_.n_classes[0])]\n",
    "for i,dt in enumerate(rf_clf.estimators_):\n",
    "    print(f'\\n // Source code for tree {i+1}.\\n \\n')\n",
    "    tree_to_code(tree = dt, feature_names = features, tree_num=i+1)\n",
    "\n",
    "with open('Locked_Decision_rules_Accdel.txt', 'w') as f:\n",
    "    f.write(cap.stdout)"
   ]
  },
  {
   "cell_type": "code",
   "execution_count": 15,
   "metadata": {},
   "outputs": [],
   "source": [
    "with open('Locked_Decision_rules_Accdel.txt', 'r') as f:\n",
    "   lines = f.read().split('\\n\\n')\n",
    "\n",
    "for i in range(n_trees):\n",
    "    f = open(f\"rf__locktree_{i+1}_Accdel.txt\", \"w\")\n",
    "    f.write(lines[2*i])\n",
    "    f.write(lines[2*i+1])\n",
    "    f.close()"
   ]
  },
  {
   "cell_type": "code",
   "execution_count": 16,
   "metadata": {},
   "outputs": [],
   "source": [
    "import pdb\n",
    "def write_file(data_towrite,vfile_name):\n",
    "    with open(vfile_name, 'a', encoding='utf-8') as file:\n",
    "        file.writelines(data_towrite)\n",
    "        file.close()\n",
    "        \n",
    "def write_line_file(data_towrite, line_num,vfile_name):\n",
    "    with open(vfile_name, 'r', encoding='utf-8') as file:\n",
    "        file_content = file.readlines()\n",
    "        file.close()\n",
    "    file_content[line_num] = file_content[line_num].replace('\\n','') + ' ' + data_towrite + '\\n'  \n",
    "    with open(vfile_name, 'w', encoding='utf-8') as file:\n",
    "        file.writelines(file_content)\n",
    "        file.close()\n",
    "        \n",
    "def search_content_file(word,vfile_name):\n",
    "    with open(vfile_name, 'r') as file:\n",
    "        file_content = file.readlines()\n",
    "        for line_num,line in enumerate(file_content):\n",
    "            if word in line:\n",
    "                return(line_num)\n",
    "        return(\"content doesn't exists.\")\n",
    "    \n",
    "def update_stateformat_file(vfile_name):\n",
    "    with open(vfile_name, 'r', encoding='utf-8') as file:\n",
    "        file_content = file.readlines()\n",
    "        file.close()\n",
    "    for line_num,line in enumerate(file_content):\n",
    "        if 'if' in line:\n",
    "            file_content[line_num] = '16\\'d' + file_content[line_num].strip() + ' \\n'  \n",
    "    with open(vfile_name, 'w', encoding='utf-8') as file:\n",
    "        file.writelines(file_content)\n",
    "        file.close()\n",
    "        \n",
    "def clear_file(vfile_name):\n",
    "    with open(vfile_name, 'w', encoding='utf-8') as file:\n",
    "        pass\n",
    "        file.close()\n",
    "\n",
    "import itertools\n",
    "for m in range(n_trees):\n",
    "    f = open(f\"rf__locktree_{m+1}_Accdel.txt\", \"r\")\n",
    "    tree_verilog = f.read()\n",
    "    f.close()\n",
    "    vfile_name = 'rf'+str(m+1)+'_Accdel_lock.v'\n",
    "    clear_file(vfile_name)\n",
    "    line_num = 0\n",
    "    else_state = 0\n",
    "    else_nextif_state = 0\n",
    "    curr_line,next_line = itertools.tee(tree_verilog.split('\\n'))\n",
    "    next(next_line, None)\n",
    "    for i,j in list(zip(curr_line,next_line)):\n",
    "        if 'Label' in i:\n",
    "            pass\n",
    "            #write_file(f'  begin {i.strip()} state<=0;ml_inference_completed<=1; end \\n')\n",
    "        elif 'else' in i and 'Label' in j:\n",
    "            else_state = i.strip().split(':')[0]\n",
    "            line_num = search_content_file(' '+str(else_state)+':if',vfile_name )\n",
    "            write_line_file(f'\\n       else begin {j.strip()} state_tree{m+1}<=0;ml_inference_completed_tree{m+1}<=1; end ', line_num,vfile_name)\n",
    "            #write_file(f'   {i.strip().split(\":\")[-1]} ')\n",
    "        elif 'else' in i and 'if' in j:\n",
    "            else_state = i.strip().split(':')[0]\n",
    "            else_nextif_state = j.strip().split(':')[0]\n",
    "            line_num = search_content_file(' '+str(else_state)+':if',vfile_name )\n",
    "            write_line_file(f'else begin state_tree{m+1}<={else_nextif_state}; end ', line_num,vfile_name)\n",
    "        elif 'if' in i and 'Label' in j:\n",
    "            write_file(f'\\n {i.strip()} begin {j.strip()} state_tree{m+1}<=0;ml_inference_completed_tree{m+1}<=1; end ',vfile_name)\n",
    "        elif 'if' in i and 'if' in j:\n",
    "            write_file(f'\\n {i.strip()} begin state_tree{m+1}<={j.strip().split(\":\")[0]}; end \\n ',vfile_name)  \n",
    "    update_stateformat_file(vfile_name)"
   ]
  },
  {
   "cell_type": "code",
   "execution_count": 17,
   "metadata": {
    "scrolled": true
   },
   "outputs": [],
   "source": [
    "for i in range(n_trees):\n",
    "    vfile_name = 'rf'+str(i+1)+'_Accdel_lock.v'\n",
    "    with open(vfile_name, 'r', encoding='utf-8') as file:\n",
    "        file_content = file.readlines()\n",
    "        file.close()\n",
    "\n",
    "    key_index = 0\n",
    "    for line_num,line in enumerate(file_content):\n",
    "        if 'key' in line:\n",
    "            file_content[line_num] = file_content[line_num].replace('key',f'key{i+1}[{key_index}]')\n",
    "            if key[i][key_index]==1: file_content[line_num] = file_content[line_num].replace('^','~^')\n",
    "            if key[i][key_index]==2: file_content[line_num] = file_content[line_num].split('])')[0].replace('((','(').split('^')[0] + file_content[line_num].split('])')[1]\n",
    "            key_index = key_index+1\n",
    "    with open(vfile_name, 'w', encoding='utf-8') as file:\n",
    "            file.writelines(file_content)\n",
    "            file.close()"
   ]
  },
  {
   "cell_type": "markdown",
   "metadata": {},
   "source": [
    "###### This should go into verilog.\n",
    "\n",
    "While sending the key to the FPGA replace all the 2 with either 1 or 0 because such value at that position in the key regsiter is not read during inferencing. "
   ]
  },
  {
   "cell_type": "code",
   "execution_count": 18,
   "metadata": {
    "scrolled": true
   },
   "outputs": [
    {
     "name": "stdout",
     "output_type": "stream",
     "text": [
      "reg [482:0] key1;\n",
      "initial key1 = {1'b0, 1'b0, 1'b0, 1'b0, 1'b0, 1'b0, 1'b1, 1'b1, 1'b0, 1'b1, 1'b0, 1'b1, 1'b0, 1'b1, 1'b1, 1'b0, 1'b0, 1'b0, 1'b0, 1'b0, 1'b0, 1'b0, 1'b1, 1'b1, 1'b0, 1'b0, 1'b0, 1'b1, 1'b1, 1'b1, 1'b0, 1'b1, 1'b1, 1'b0, 1'b1, 1'b0, 1'b1, 1'b0, 1'b0, 1'b0, 1'b1, 1'b1, 1'b0, 1'b0, 1'b0, 1'b1, 1'b0, 1'b1, 1'b0, 1'b1, 1'b0, 1'b1, 1'b0, 1'b1, 1'b1, 1'b0, 1'b1, 1'b0, 1'b1, 1'b1, 1'b1, 1'b1, 1'b0, 1'b1, 1'b1, 1'b0, 1'b1, 1'b1, 1'b0, 1'b0, 1'b0, 1'b0, 1'b0, 1'b0, 1'b0, 1'b1, 1'b1, 1'b0, 1'b1, 1'b1, 1'b1, 1'b0, 1'b1, 1'b1, 1'b1, 1'b0, 1'b1, 1'b1, 1'b0, 1'b0, 1'b1, 1'b0, 1'b1, 1'b1, 1'b1, 1'b0, 1'b0, 1'b0, 1'b1, 1'b0, 1'b0, 1'b1, 1'b1, 1'b1, 1'b0, 1'b1, 1'b0, 1'b1, 1'b0, 1'b1, 1'b0, 1'b1, 1'b0, 1'b1, 1'b0, 1'b0, 1'b1, 1'b1, 1'b1, 1'b0, 1'b0, 1'b1, 1'b0, 1'b0, 1'b0, 1'b0, 1'b0, 1'b1, 1'b0, 1'b0, 1'b0, 1'b0, 1'b0, 1'b1, 1'b1, 1'b1, 1'b1, 1'b0, 1'b0, 1'b0, 1'b0, 1'b0, 1'b0, 1'b0, 1'b1, 1'b0, 1'b0, 1'b1, 1'b0, 1'b0, 1'b0, 1'b1, 1'b1, 1'b0, 1'b0, 1'b1, 1'b0, 1'b0, 1'b0, 1'b0, 1'b1, 1'b1, 1'b1, 1'b0, 1'b1, 1'b0, 1'b0, 1'b1, 1'b0, 1'b0, 1'b0, 1'b1, 1'b1, 1'b0, 1'b0, 1'b0, 1'b0, 1'b1, 1'b0, 1'b0, 1'b1, 1'b1, 1'b0, 1'b1, 1'b0, 1'b1, 1'b0, 1'b0, 1'b0, 1'b0, 1'b0, 1'b0, 1'b0, 1'b1, 1'b0, 1'b0, 1'b0, 1'b0, 1'b0, 1'b0, 1'b0, 1'b0, 1'b1, 1'b1, 1'b0, 1'b0, 1'b0, 1'b0, 1'b1, 1'b1, 1'b0, 1'b0, 1'b0, 1'b1, 1'b0, 1'b0, 1'b0, 1'b0, 1'b1, 1'b1, 1'b0, 1'b0, 1'b0, 1'b1, 1'b0, 1'b0, 1'b1, 1'b0, 1'b0, 1'b0, 1'b0, 1'b0, 1'b0, 1'b1, 1'b1, 1'b0, 1'b0, 1'b0, 1'b0, 1'b0, 1'b0, 1'b0, 1'b0, 1'b0, 1'b0, 1'b0, 1'b0, 1'b0, 1'b0, 1'b0, 1'b1, 1'b0, 1'b0, 1'b0, 1'b0, 1'b0, 1'b0, 1'b1, 1'b0, 1'b0, 1'b0, 1'b0, 1'b0, 1'b0, 1'b0, 1'b1, 1'b1, 1'b0, 1'b1, 1'b0, 1'b1, 1'b1, 1'b1, 1'b1, 1'b1, 1'b1, 1'b1, 1'b0, 1'b0, 1'b0, 1'b0, 1'b1, 1'b0, 1'b0, 1'b0, 1'b1, 1'b0, 1'b1, 1'b0, 1'b0, 1'b0, 1'b0, 1'b1, 1'b1, 1'b1, 1'b1, 1'b1, 1'b0, 1'b1, 1'b0, 1'b1, 1'b1, 1'b1, 1'b1, 1'b1, 1'b0, 1'b1, 1'b0, 1'b1, 1'b1, 1'b1, 1'b1, 1'b1, 1'b0, 1'b1, 1'b0, 1'b1, 1'b1, 1'b0, 1'b0, 1'b1, 1'b1, 1'b0, 1'b0, 1'b0, 1'b0, 1'b0, 1'b0, 1'b0, 1'b1, 1'b1, 1'b0, 1'b1, 1'b1, 1'b1, 1'b1, 1'b0, 1'b0, 1'b1, 1'b1, 1'b0, 1'b1, 1'b1, 1'b0, 1'b1, 1'b1, 1'b0, 1'b0, 1'b0, 1'b0, 1'b0, 1'b1, 1'b1, 1'b0, 1'b0, 1'b1, 1'b1, 1'b1, 1'b0, 1'b1, 1'b1, 1'b0, 1'b0, 1'b0, 1'b1, 1'b0, 1'b1, 1'b0, 1'b1, 1'b0, 1'b1, 1'b0, 1'b1, 1'b0, 1'b0, 1'b1, 1'b1, 1'b0, 1'b1, 1'b1, 1'b0, 1'b1, 1'b0, 1'b0, 1'b0, 1'b0, 1'b1, 1'b1, 1'b1, 1'b0, 1'b1, 1'b0, 1'b1, 1'b1, 1'b0, 1'b1, 1'b1, 1'b0, 1'b1, 1'b0, 1'b1, 1'b0, 1'b1, 1'b1, 1'b0, 1'b1, 1'b1, 1'b0, 1'b1, 1'b0, 1'b0, 1'b1, 1'b0, 1'b0, 1'b1, 1'b0, 1'b1, 1'b0, 1'b0, 1'b0, 1'b0, 1'b0, 1'b1, 1'b0, 1'b1, 1'b1, 1'b0, 1'b0, 1'b0, 1'b1, 1'b1, 1'b0, 1'b0, 1'b0, 1'b0, 1'b0, 1'b0, 1'b0, 1'b1, 1'b1, 1'b1, 1'b0, 1'b1, 1'b0, 1'b1, 1'b1, 1'b0, 1'b0, 1'b0, 1'b0, 1'b1, 1'b0, 1'b0, 1'b1, 1'b1, 1'b0, 1'b1, 1'b0, 1'b0, 1'b0, 1'b1, 1'b1, 1'b1, 1'b0, 1'b0, 1'b1, 1'b0, 1'b0, 1'b0, 1'b0, 1'b1, 1'b1, 1'b0, 1'b1, 1'b1, 1'b1, 1'b0, 1'b0, 1'b1, 1'b1, 1'b0, 1'b1, 1'b1};\n",
      "reg [470:0] key2;\n",
      "initial key2 = {1'b1, 1'b1, 1'b0, 1'b0, 1'b0, 1'b1, 1'b1, 1'b0, 1'b0, 1'b1, 1'b0, 1'b0, 1'b1, 1'b0, 1'b1, 1'b1, 1'b1, 1'b1, 1'b0, 1'b1, 1'b0, 1'b0, 1'b1, 1'b1, 1'b0, 1'b0, 1'b0, 1'b0, 1'b1, 1'b1, 1'b0, 1'b1, 1'b0, 1'b0, 1'b0, 1'b0, 1'b1, 1'b0, 1'b0, 1'b0, 1'b1, 1'b0, 1'b0, 1'b0, 1'b0, 1'b0, 1'b0, 1'b1, 1'b1, 1'b1, 1'b1, 1'b0, 1'b1, 1'b1, 1'b0, 1'b1, 1'b0, 1'b0, 1'b1, 1'b1, 1'b0, 1'b1, 1'b1, 1'b0, 1'b0, 1'b0, 1'b1, 1'b0, 1'b0, 1'b0, 1'b0, 1'b0, 1'b1, 1'b0, 1'b0, 1'b1, 1'b1, 1'b1, 1'b0, 1'b0, 1'b1, 1'b1, 1'b1, 1'b0, 1'b0, 1'b1, 1'b1, 1'b0, 1'b0, 1'b0, 1'b1, 1'b0, 1'b1, 1'b1, 1'b1, 1'b0, 1'b1, 1'b1, 1'b0, 1'b1, 1'b0, 1'b0, 1'b1, 1'b1, 1'b1, 1'b0, 1'b0, 1'b0, 1'b0, 1'b0, 1'b0, 1'b1, 1'b0, 1'b0, 1'b0, 1'b1, 1'b0, 1'b0, 1'b0, 1'b0, 1'b1, 1'b0, 1'b1, 1'b0, 1'b1, 1'b1, 1'b0, 1'b0, 1'b0, 1'b1, 1'b0, 1'b0, 1'b1, 1'b0, 1'b0, 1'b1, 1'b0, 1'b1, 1'b0, 1'b1, 1'b1, 1'b0, 1'b1, 1'b1, 1'b1, 1'b1, 1'b1, 1'b0, 1'b1, 1'b0, 1'b0, 1'b0, 1'b0, 1'b0, 1'b1, 1'b0, 1'b0, 1'b1, 1'b1, 1'b1, 1'b0, 1'b0, 1'b0, 1'b0, 1'b1, 1'b0, 1'b0, 1'b0, 1'b0, 1'b1, 1'b1, 1'b1, 1'b1, 1'b0, 1'b0, 1'b0, 1'b1, 1'b1, 1'b0, 1'b1, 1'b1, 1'b1, 1'b0, 1'b0, 1'b0, 1'b1, 1'b1, 1'b0, 1'b0, 1'b0, 1'b0, 1'b0, 1'b1, 1'b0, 1'b1, 1'b0, 1'b1, 1'b1, 1'b1, 1'b1, 1'b1, 1'b1, 1'b0, 1'b1, 1'b1, 1'b0, 1'b0, 1'b0, 1'b0, 1'b0, 1'b0, 1'b1, 1'b1, 1'b1, 1'b1, 1'b0, 1'b1, 1'b0, 1'b0, 1'b0, 1'b0, 1'b1, 1'b1, 1'b0, 1'b0, 1'b0, 1'b0, 1'b1, 1'b0, 1'b1, 1'b0, 1'b1, 1'b1, 1'b0, 1'b0, 1'b1, 1'b0, 1'b0, 1'b0, 1'b1, 1'b1, 1'b1, 1'b1, 1'b0, 1'b0, 1'b1, 1'b1, 1'b0, 1'b0, 1'b0, 1'b0, 1'b1, 1'b1, 1'b0, 1'b0, 1'b0, 1'b1, 1'b0, 1'b1, 1'b0, 1'b0, 1'b0, 1'b1, 1'b1, 1'b0, 1'b1, 1'b0, 1'b0, 1'b0, 1'b1, 1'b0, 1'b1, 1'b0, 1'b0, 1'b0, 1'b1, 1'b0, 1'b1, 1'b0, 1'b0, 1'b0, 1'b1, 1'b0, 1'b0, 1'b0, 1'b1, 1'b1, 1'b1, 1'b1, 1'b0, 1'b0, 1'b1, 1'b1, 1'b1, 1'b1, 1'b1, 1'b1, 1'b0, 1'b0, 1'b1, 1'b1, 1'b0, 1'b0, 1'b0, 1'b1, 1'b0, 1'b0, 1'b1, 1'b1, 1'b0, 1'b1, 1'b0, 1'b0, 1'b0, 1'b0, 1'b0, 1'b0, 1'b1, 1'b0, 1'b1, 1'b0, 1'b1, 1'b0, 1'b0, 1'b1, 1'b1, 1'b0, 1'b1, 1'b0, 1'b1, 1'b0, 1'b0, 1'b0, 1'b0, 1'b0, 1'b1, 1'b0, 1'b1, 1'b0, 1'b1, 1'b1, 1'b0, 1'b0, 1'b0, 1'b0, 1'b0, 1'b1, 1'b0, 1'b1, 1'b0, 1'b1, 1'b0, 1'b0, 1'b1, 1'b1, 1'b1, 1'b0, 1'b0, 1'b1, 1'b0, 1'b0, 1'b1, 1'b1, 1'b0, 1'b0, 1'b1, 1'b0, 1'b0, 1'b0, 1'b0, 1'b0, 1'b0, 1'b1, 1'b0, 1'b0, 1'b0, 1'b1, 1'b1, 1'b0, 1'b0, 1'b0, 1'b0, 1'b1, 1'b0, 1'b0, 1'b0, 1'b0, 1'b0, 1'b0, 1'b1, 1'b1, 1'b1, 1'b0, 1'b1, 1'b0, 1'b0, 1'b0, 1'b0, 1'b1, 1'b0, 1'b0, 1'b0, 1'b1, 1'b0, 1'b0, 1'b1, 1'b0, 1'b0, 1'b1, 1'b1, 1'b0, 1'b0, 1'b1, 1'b0, 1'b0, 1'b1, 1'b0, 1'b0, 1'b1, 1'b0, 1'b0, 1'b1, 1'b0, 1'b0, 1'b1, 1'b1, 1'b1, 1'b0, 1'b0, 1'b0, 1'b1, 1'b1, 1'b0, 1'b1, 1'b1, 1'b1, 1'b1, 1'b0, 1'b1, 1'b0, 1'b0, 1'b0, 1'b0, 1'b1, 1'b0, 1'b0, 1'b0, 1'b0, 1'b1, 1'b0, 1'b1, 1'b0, 1'b0, 1'b1, 1'b0, 1'b1, 1'b0, 1'b0, 1'b0, 1'b1, 1'b1, 1'b1, 1'b1, 1'b0, 1'b0, 1'b0, 1'b1, 1'b1, 1'b0, 1'b1, 1'b1};\n",
      "reg [474:0] key3;\n",
      "initial key3 = {1'b1, 1'b1, 1'b1, 1'b1, 1'b1, 1'b1, 1'b1, 1'b0, 1'b0, 1'b0, 1'b1, 1'b0, 1'b1, 1'b1, 1'b0, 1'b1, 1'b0, 1'b1, 1'b0, 1'b1, 1'b1, 1'b1, 1'b1, 1'b0, 1'b0, 1'b1, 1'b0, 1'b1, 1'b1, 1'b0, 1'b1, 1'b0, 1'b1, 1'b1, 1'b0, 1'b1, 1'b0, 1'b1, 1'b1, 1'b0, 1'b0, 1'b0, 1'b1, 1'b0, 1'b0, 1'b1, 1'b0, 1'b1, 1'b0, 1'b0, 1'b1, 1'b1, 1'b1, 1'b0, 1'b0, 1'b0, 1'b1, 1'b0, 1'b0, 1'b0, 1'b1, 1'b0, 1'b1, 1'b0, 1'b1, 1'b1, 1'b0, 1'b1, 1'b0, 1'b1, 1'b0, 1'b1, 1'b1, 1'b0, 1'b1, 1'b1, 1'b1, 1'b0, 1'b1, 1'b1, 1'b1, 1'b1, 1'b0, 1'b1, 1'b1, 1'b1, 1'b0, 1'b1, 1'b1, 1'b0, 1'b1, 1'b1, 1'b1, 1'b1, 1'b1, 1'b1, 1'b1, 1'b1, 1'b1, 1'b0, 1'b1, 1'b1, 1'b1, 1'b1, 1'b1, 1'b0, 1'b0, 1'b0, 1'b0, 1'b0, 1'b1, 1'b0, 1'b0, 1'b1, 1'b1, 1'b0, 1'b1, 1'b1, 1'b0, 1'b1, 1'b1, 1'b0, 1'b0, 1'b1, 1'b0, 1'b1, 1'b0, 1'b0, 1'b1, 1'b1, 1'b1, 1'b0, 1'b0, 1'b1, 1'b1, 1'b1, 1'b0, 1'b0, 1'b1, 1'b1, 1'b1, 1'b1, 1'b1, 1'b1, 1'b0, 1'b1, 1'b1, 1'b0, 1'b1, 1'b1, 1'b0, 1'b0, 1'b1, 1'b1, 1'b1, 1'b0, 1'b0, 1'b1, 1'b0, 1'b0, 1'b1, 1'b0, 1'b1, 1'b1, 1'b1, 1'b1, 1'b1, 1'b0, 1'b1, 1'b1, 1'b1, 1'b0, 1'b0, 1'b0, 1'b1, 1'b1, 1'b1, 1'b1, 1'b0, 1'b1, 1'b0, 1'b1, 1'b0, 1'b1, 1'b0, 1'b1, 1'b1, 1'b1, 1'b0, 1'b1, 1'b0, 1'b1, 1'b0, 1'b1, 1'b0, 1'b1, 1'b0, 1'b1, 1'b1, 1'b1, 1'b1, 1'b1, 1'b1, 1'b0, 1'b0, 1'b0, 1'b0, 1'b0, 1'b0, 1'b0, 1'b0, 1'b1, 1'b0, 1'b1, 1'b1, 1'b1, 1'b0, 1'b1, 1'b0, 1'b1, 1'b1, 1'b0, 1'b1, 1'b0, 1'b1, 1'b1, 1'b1, 1'b1, 1'b1, 1'b1, 1'b0, 1'b1, 1'b1, 1'b0, 1'b0, 1'b0, 1'b1, 1'b1, 1'b1, 1'b1, 1'b0, 1'b1, 1'b1, 1'b0, 1'b0, 1'b0, 1'b0, 1'b1, 1'b0, 1'b0, 1'b0, 1'b0, 1'b1, 1'b1, 1'b0, 1'b1, 1'b1, 1'b0, 1'b0, 1'b1, 1'b0, 1'b1, 1'b1, 1'b0, 1'b0, 1'b0, 1'b0, 1'b1, 1'b1, 1'b0, 1'b1, 1'b0, 1'b1, 1'b1, 1'b0, 1'b1, 1'b1, 1'b0, 1'b1, 1'b0, 1'b1, 1'b0, 1'b0, 1'b1, 1'b0, 1'b0, 1'b1, 1'b1, 1'b0, 1'b1, 1'b1, 1'b0, 1'b0, 1'b1, 1'b0, 1'b0, 1'b1, 1'b0, 1'b0, 1'b1, 1'b0, 1'b0, 1'b1, 1'b1, 1'b0, 1'b0, 1'b1, 1'b1, 1'b0, 1'b1, 1'b1, 1'b0, 1'b0, 1'b1, 1'b1, 1'b1, 1'b1, 1'b1, 1'b0, 1'b0, 1'b0, 1'b1, 1'b1, 1'b0, 1'b1, 1'b1, 1'b0, 1'b1, 1'b1, 1'b1, 1'b0, 1'b1, 1'b1, 1'b1, 1'b1, 1'b1, 1'b1, 1'b1, 1'b1, 1'b0, 1'b1, 1'b1, 1'b1, 1'b0, 1'b1, 1'b0, 1'b0, 1'b0, 1'b0, 1'b1, 1'b0, 1'b0, 1'b0, 1'b1, 1'b0, 1'b1, 1'b1, 1'b1, 1'b1, 1'b0, 1'b1, 1'b1, 1'b1, 1'b0, 1'b0, 1'b1, 1'b1, 1'b1, 1'b1, 1'b0, 1'b1, 1'b1, 1'b1, 1'b1, 1'b1, 1'b1, 1'b0, 1'b1, 1'b1, 1'b0, 1'b0, 1'b1, 1'b1, 1'b1, 1'b0, 1'b0, 1'b1, 1'b1, 1'b0, 1'b1, 1'b0, 1'b0, 1'b0, 1'b1, 1'b1, 1'b1, 1'b1, 1'b1, 1'b0, 1'b0, 1'b0, 1'b1, 1'b1, 1'b0, 1'b1, 1'b1, 1'b1, 1'b0, 1'b0, 1'b0, 1'b1, 1'b1, 1'b0, 1'b1, 1'b1, 1'b1, 1'b1, 1'b1, 1'b0, 1'b1, 1'b0, 1'b1, 1'b0, 1'b1, 1'b1, 1'b1, 1'b0, 1'b1, 1'b0, 1'b0, 1'b0, 1'b0, 1'b1, 1'b0, 1'b0, 1'b0, 1'b1, 1'b0, 1'b1, 1'b1, 1'b0, 1'b1, 1'b0, 1'b0, 1'b1, 1'b0, 1'b1, 1'b0, 1'b1, 1'b0, 1'b1, 1'b1, 1'b1, 1'b0, 1'b1, 1'b1, 1'b1, 1'b0, 1'b1, 1'b0, 1'b1, 1'b0, 1'b1, 1'b1, 1'b0, 1'b0, 1'b0, 1'b0, 1'b1, 1'b0, 1'b1, 1'b1, 1'b0, 1'b1, 1'b1};\n"
     ]
    }
   ],
   "source": [
    "for i in range(n_trees):\n",
    "    reverse_order_key = key[i].copy()\n",
    "    reverse_order_key = list(reverse_order_key)\n",
    "    reverse_order_key.reverse()\n",
    "    #reversing the order because in verilog the leftmost is MSB (key[counter_if]) and rightmost is LSB key[0].\n",
    "    print(f'reg [{nodes_count[i]-1}:0] key{i+1};')\n",
    "    display_string = f'initial key{i+1} = '+ '{' + \", \".join([\"1'b\"+str(x) for x in reverse_order_key]).replace(\"2\",str(np.random.randint(0,2))) + '}'\n",
    "    print(display_string+';')"
   ]
  },
  {
   "cell_type": "code",
   "execution_count": null,
   "metadata": {},
   "outputs": [],
   "source": []
  }
 ],
 "metadata": {
  "kernelspec": {
   "display_name": "Python 3 (ipykernel)",
   "language": "python",
   "name": "python3"
  },
  "language_info": {
   "codemirror_mode": {
    "name": "ipython",
    "version": 3
   },
   "file_extension": ".py",
   "mimetype": "text/x-python",
   "name": "python",
   "nbconvert_exporter": "python",
   "pygments_lexer": "ipython3",
   "version": "3.7.5"
  }
 },
 "nbformat": 4,
 "nbformat_minor": 2
}
